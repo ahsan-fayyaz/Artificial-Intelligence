{
 "cells": [
  {
   "cell_type": "markdown",
   "metadata": {},
   "source": [
    "## Imports section"
   ]
  },
  {
   "cell_type": "code",
   "execution_count": 1,
   "metadata": {},
   "outputs": [],
   "source": [
    "import pandas as pd\n",
    "import numpy as np\n",
    "from sklearn.model_selection import train_test_split\n",
    "from sklearn.linear_model import LinearRegression\n",
    "from sklearn.model_selection import cross_val_score\n",
    "from sklearn.preprocessing import PolynomialFeatures\n",
    "from IPython.display import Markdown as md"
   ]
  },
  {
   "cell_type": "markdown",
   "metadata": {},
   "source": [
    "## Part 1. Loading the dataset"
   ]
  },
  {
   "cell_type": "code",
   "execution_count": 2,
   "metadata": {},
   "outputs": [],
   "source": [
    "#Use read_csv function to remotely read the csv and store it into a variable named df\n",
    "df = pd.read_csv(\"https://raw.githubusercontent.com/profmcnich/example_notebook/main/science_data_large.csv\")"
   ]
  },
  {
   "cell_type": "markdown",
   "metadata": {},
   "source": [
    "#### First 15 rows"
   ]
  },
  {
   "cell_type": "code",
   "execution_count": 3,
   "metadata": {
    "scrolled": true
   },
   "outputs": [
    {
     "name": "stdout",
     "output_type": "stream",
     "text": [
      "    Temperature °C  Mols KCL     Size nm^3\n",
      "0              469       647  6.244743e+05\n",
      "1              403       694  5.779610e+05\n",
      "2              302       975  6.196847e+05\n",
      "3              779       916  1.460449e+06\n",
      "4              901        18  4.325726e+04\n",
      "5              545       637  7.124634e+05\n",
      "6              660       519  7.006960e+05\n",
      "7              143       869  2.718260e+05\n",
      "8               89       461  8.919803e+04\n",
      "9              294       776  4.770210e+05\n",
      "10             991       117  2.441771e+05\n",
      "11             307       781  5.006455e+05\n",
      "12             206        70  3.145200e+04\n",
      "13             437       599  5.390215e+05\n",
      "14             566        75  9.185271e+04\n"
     ]
    }
   ],
   "source": [
    "print(df.head(15))"
   ]
  },
  {
   "cell_type": "markdown",
   "metadata": {},
   "source": [
    "#### Display summary of the table"
   ]
  },
  {
   "cell_type": "code",
   "execution_count": 4,
   "metadata": {
    "scrolled": true
   },
   "outputs": [
    {
     "name": "stdout",
     "output_type": "stream",
     "text": [
      "<class 'pandas.core.frame.DataFrame'>\n",
      "RangeIndex: 1000 entries, 0 to 999\n",
      "Data columns (total 3 columns):\n",
      "Temperature °C    1000 non-null int64\n",
      "Mols KCL          1000 non-null int64\n",
      "Size nm^3         1000 non-null float64\n",
      "dtypes: float64(1), int64(2)\n",
      "memory usage: 23.5 KB\n"
     ]
    }
   ],
   "source": [
    "df.info()"
   ]
  },
  {
   "cell_type": "code",
   "execution_count": 5,
   "metadata": {},
   "outputs": [
    {
     "data": {
      "text/html": [
       "<div>\n",
       "<style scoped>\n",
       "    .dataframe tbody tr th:only-of-type {\n",
       "        vertical-align: middle;\n",
       "    }\n",
       "\n",
       "    .dataframe tbody tr th {\n",
       "        vertical-align: top;\n",
       "    }\n",
       "\n",
       "    .dataframe thead th {\n",
       "        text-align: right;\n",
       "    }\n",
       "</style>\n",
       "<table border=\"1\" class=\"dataframe\">\n",
       "  <thead>\n",
       "    <tr style=\"text-align: right;\">\n",
       "      <th></th>\n",
       "      <th>Temperature °C</th>\n",
       "      <th>Mols KCL</th>\n",
       "      <th>Size nm^3</th>\n",
       "    </tr>\n",
       "  </thead>\n",
       "  <tbody>\n",
       "    <tr>\n",
       "      <th>count</th>\n",
       "      <td>1000.000000</td>\n",
       "      <td>1000.000000</td>\n",
       "      <td>1.000000e+03</td>\n",
       "    </tr>\n",
       "    <tr>\n",
       "      <th>mean</th>\n",
       "      <td>500.500000</td>\n",
       "      <td>471.530000</td>\n",
       "      <td>5.086111e+05</td>\n",
       "    </tr>\n",
       "    <tr>\n",
       "      <th>std</th>\n",
       "      <td>288.819436</td>\n",
       "      <td>288.482872</td>\n",
       "      <td>4.474838e+05</td>\n",
       "    </tr>\n",
       "    <tr>\n",
       "      <th>min</th>\n",
       "      <td>1.000000</td>\n",
       "      <td>1.000000</td>\n",
       "      <td>1.611429e+01</td>\n",
       "    </tr>\n",
       "    <tr>\n",
       "      <th>25%</th>\n",
       "      <td>250.750000</td>\n",
       "      <td>226.750000</td>\n",
       "      <td>1.298267e+05</td>\n",
       "    </tr>\n",
       "    <tr>\n",
       "      <th>50%</th>\n",
       "      <td>500.500000</td>\n",
       "      <td>459.500000</td>\n",
       "      <td>3.827182e+05</td>\n",
       "    </tr>\n",
       "    <tr>\n",
       "      <th>75%</th>\n",
       "      <td>750.250000</td>\n",
       "      <td>710.250000</td>\n",
       "      <td>7.603211e+05</td>\n",
       "    </tr>\n",
       "    <tr>\n",
       "      <th>max</th>\n",
       "      <td>1000.000000</td>\n",
       "      <td>1000.000000</td>\n",
       "      <td>1.972127e+06</td>\n",
       "    </tr>\n",
       "  </tbody>\n",
       "</table>\n",
       "</div>"
      ],
      "text/plain": [
       "       Temperature °C     Mols KCL     Size nm^3\n",
       "count     1000.000000  1000.000000  1.000000e+03\n",
       "mean       500.500000   471.530000  5.086111e+05\n",
       "std        288.819436   288.482872  4.474838e+05\n",
       "min          1.000000     1.000000  1.611429e+01\n",
       "25%        250.750000   226.750000  1.298267e+05\n",
       "50%        500.500000   459.500000  3.827182e+05\n",
       "75%        750.250000   710.250000  7.603211e+05\n",
       "max       1000.000000  1000.000000  1.972127e+06"
      ]
     },
     "execution_count": 5,
     "metadata": {},
     "output_type": "execute_result"
    }
   ],
   "source": [
    "df.describe()"
   ]
  },
  {
   "cell_type": "markdown",
   "metadata": {},
   "source": [
    "## Part 2. Splitting the dataset"
   ]
  },
  {
   "cell_type": "code",
   "execution_count": 6,
   "metadata": {},
   "outputs": [
    {
     "name": "stdout",
     "output_type": "stream",
     "text": [
      "Columns :  Index(['Temperature °C', 'Mols KCL', 'Size nm^3'], dtype='object')\n"
     ]
    }
   ],
   "source": [
    "print(\"Columns : \", df.columns)"
   ]
  },
  {
   "cell_type": "code",
   "execution_count": 7,
   "metadata": {},
   "outputs": [],
   "source": [
    "#features (X)\n",
    "X = df[[\"Temperature °C\", \"Mols KCL\"]]\n",
    "\n",
    "#label (y)\n",
    "y = df[\"Size nm^3\"]"
   ]
  },
  {
   "cell_type": "code",
   "execution_count": 8,
   "metadata": {},
   "outputs": [],
   "source": [
    "# Use the train_test_split function\n",
    "X_train, X_test, y_train, y_test = train_test_split(X, y, test_size=0.10)"
   ]
  },
  {
   "cell_type": "code",
   "execution_count": 9,
   "metadata": {},
   "outputs": [
    {
     "name": "stdout",
     "output_type": "stream",
     "text": [
      "Train:  (900, 2)\n",
      "Test :  (100, 2)\n",
      "Train:  (900,)\n",
      "Test :  (100,)\n"
     ]
    }
   ],
   "source": [
    "print(\"Train: \",X_train.shape)\n",
    "print(\"Test : \",X_test.shape)\n",
    "\n",
    "print(\"Train: \",y_train.shape)\n",
    "print(\"Test : \",y_test.shape)"
   ]
  },
  {
   "cell_type": "markdown",
   "metadata": {},
   "source": [
    "## Part 3. Perform a Linear Regression"
   ]
  },
  {
   "cell_type": "markdown",
   "metadata": {},
   "source": [
    "#### Make an object of the class LinearRegression followed by fit method which trains the model"
   ]
  },
  {
   "cell_type": "code",
   "execution_count": 10,
   "metadata": {},
   "outputs": [
    {
     "data": {
      "text/plain": [
       "LinearRegression(copy_X=True, fit_intercept=True, n_jobs=None,\n",
       "         normalize=False)"
      ]
     },
     "execution_count": 10,
     "metadata": {},
     "output_type": "execute_result"
    }
   ],
   "source": [
    "model = LinearRegression()\n",
    "model.fit(X_train, y_train)"
   ]
  },
  {
   "cell_type": "markdown",
   "metadata": {},
   "source": [
    "#### Call predict method on the actual dataset"
   ]
  },
  {
   "cell_type": "code",
   "execution_count": 11,
   "metadata": {},
   "outputs": [
    {
     "data": {
      "text/plain": [
       "array([ 369686.35246253,  719204.34216601,  299668.31259342,\n",
       "        330785.83121152,  114993.78083378, 1286902.33553064,\n",
       "        296610.8259866 ,  761122.38511225,  -86604.34541716,\n",
       "        494824.81372822,  785053.45501707,  395950.36337021,\n",
       "        189756.45038235, 1048908.63410223,  806077.63667214,\n",
       "        875526.92429924,  576149.57639279,  837671.24121002,\n",
       "        -45504.10547184,  838438.65367022,  507427.73631429,\n",
       "       1206568.54527744,  825294.78051977,  -68803.29609492,\n",
       "        183729.5217511 ,  572550.56595653,  432464.66894267,\n",
       "        864662.69966631, -184951.74604961, -285641.9222393 ,\n",
       "       1013479.13160315, 1050377.43003824,  580635.89402403,\n",
       "        431555.9372244 ,  742909.54124974,   70640.86927315,\n",
       "        654841.97456456,  601767.21610519,  627665.18346383,\n",
       "        119759.26177147,  343550.92431389,  373657.78360217,\n",
       "        761734.57747555,  617217.96618572,  614436.16767564,\n",
       "        483760.7645373 ,  862309.49847995,  116642.12333462,\n",
       "        530629.0478006 ,   22577.16730067,  307223.11572566,\n",
       "        956311.90073923, -261577.05676087,  814159.48952993,\n",
       "        487578.71318491, -241068.92593719,  672236.44216109,\n",
       "        419379.28328247,  725548.66141046,  952851.30761641,\n",
       "        722155.83487686, -418002.15758036,   71346.89229846,\n",
       "        385252.93099341,  224700.60567232,  907762.26048291,\n",
       "        121529.80987701,  803661.88171111,  471783.93515335,\n",
       "        622734.05680014, 1206995.97826137,  730062.78071933,\n",
       "       -224584.92766377, -363641.62495951, -302746.80090028,\n",
       "        -97857.20246222,  977669.68471622,  -80258.28856787,\n",
       "        -66000.07306156,  634435.19808735,  572197.25890652,\n",
       "        360666.22860398, -401961.23073455, -109666.07525025,\n",
       "        644881.26883534,  535724.08258544,   45007.59111708,\n",
       "        752512.31818911,  514628.65913144,  483153.21172349,\n",
       "        788531.42418841,  418932.73664517,  399709.80671792,\n",
       "       1079071.67001084,  166258.02627601,  915004.31255145,\n",
       "        822894.66400241,  612606.54100514,  797067.9384427 ,\n",
       "       1220945.49117876])"
      ]
     },
     "execution_count": 11,
     "metadata": {},
     "output_type": "execute_result"
    }
   ],
   "source": [
    "y_pred = model.predict(X_test)\n",
    "y_pred"
   ]
  },
  {
   "cell_type": "code",
   "execution_count": 12,
   "metadata": {},
   "outputs": [
    {
     "data": {
      "text/html": [
       "<div>\n",
       "<style scoped>\n",
       "    .dataframe tbody tr th:only-of-type {\n",
       "        vertical-align: middle;\n",
       "    }\n",
       "\n",
       "    .dataframe tbody tr th {\n",
       "        vertical-align: top;\n",
       "    }\n",
       "\n",
       "    .dataframe thead th {\n",
       "        text-align: right;\n",
       "    }\n",
       "</style>\n",
       "<table border=\"1\" class=\"dataframe\">\n",
       "  <thead>\n",
       "    <tr style=\"text-align: right;\">\n",
       "      <th></th>\n",
       "      <th>Actual</th>\n",
       "      <th>Predicted</th>\n",
       "    </tr>\n",
       "  </thead>\n",
       "  <tbody>\n",
       "    <tr>\n",
       "      <th>946</th>\n",
       "      <td>347416.4571</td>\n",
       "      <td>369686.352463</td>\n",
       "    </tr>\n",
       "    <tr>\n",
       "      <th>178</th>\n",
       "      <td>723400.3143</td>\n",
       "      <td>719204.342166</td>\n",
       "    </tr>\n",
       "    <tr>\n",
       "      <th>974</th>\n",
       "      <td>114028.1143</td>\n",
       "      <td>299668.312593</td>\n",
       "    </tr>\n",
       "    <tr>\n",
       "      <th>483</th>\n",
       "      <td>317104.1143</td>\n",
       "      <td>330785.831212</td>\n",
       "    </tr>\n",
       "    <tr>\n",
       "      <th>182</th>\n",
       "      <td>121228.4286</td>\n",
       "      <td>114993.780834</td>\n",
       "    </tr>\n",
       "  </tbody>\n",
       "</table>\n",
       "</div>"
      ],
      "text/plain": [
       "          Actual      Predicted\n",
       "946  347416.4571  369686.352463\n",
       "178  723400.3143  719204.342166\n",
       "974  114028.1143  299668.312593\n",
       "483  317104.1143  330785.831212\n",
       "182  121228.4286  114993.780834"
      ]
     },
     "execution_count": 12,
     "metadata": {},
     "output_type": "execute_result"
    }
   ],
   "source": [
    "compare_actual_predicted = pd.DataFrame({\"Actual\" : y_test, 'Predicted' : y_pred})\n",
    "compare_actual_predicted.head()"
   ]
  },
  {
   "cell_type": "markdown",
   "metadata": {},
   "source": [
    "#### Use score() method which will use X_test to predict values above and compare with y_test values to tell the accuracy"
   ]
  },
  {
   "cell_type": "code",
   "execution_count": 13,
   "metadata": {},
   "outputs": [
    {
     "data": {
      "text/plain": [
       "0.7983137890489602"
      ]
     },
     "execution_count": 13,
     "metadata": {},
     "output_type": "execute_result"
    }
   ],
   "source": [
    "model.score(X_test, y_test)"
   ]
  },
  {
   "cell_type": "code",
   "execution_count": 14,
   "metadata": {},
   "outputs": [
    {
     "data": {
      "text/plain": [
       "\" don't forget to use either one, and explain what score means\""
      ]
     },
     "execution_count": 14,
     "metadata": {},
     "output_type": "execute_result"
    }
   ],
   "source": [
    "model.score(X_train, y_train)\n",
    "\n",
    "\n",
    "\"\"\" don't forget to use either one, and explain what score means\"\"\""
   ]
  },
  {
   "cell_type": "markdown",
   "metadata": {},
   "source": [
    "#### Coefficients and Intercept"
   ]
  },
  {
   "cell_type": "code",
   "execution_count": 15,
   "metadata": {},
   "outputs": [
    {
     "name": "stdout",
     "output_type": "stream",
     "text": [
      "Temperature Coefficient =  891.3556697511474\n",
      "Mols Coefficient        =  1039.6253472343424\n"
     ]
    },
    {
     "data": {
      "text/html": [
       "<div>\n",
       "<style scoped>\n",
       "    .dataframe tbody tr th:only-of-type {\n",
       "        vertical-align: middle;\n",
       "    }\n",
       "\n",
       "    .dataframe tbody tr th {\n",
       "        vertical-align: top;\n",
       "    }\n",
       "\n",
       "    .dataframe thead th {\n",
       "        text-align: right;\n",
       "    }\n",
       "</style>\n",
       "<table border=\"1\" class=\"dataframe\">\n",
       "  <thead>\n",
       "    <tr style=\"text-align: right;\">\n",
       "      <th></th>\n",
       "      <th>Coefficient</th>\n",
       "    </tr>\n",
       "  </thead>\n",
       "  <tbody>\n",
       "    <tr>\n",
       "      <th>Temperature °C</th>\n",
       "      <td>891.355670</td>\n",
       "    </tr>\n",
       "    <tr>\n",
       "      <th>Mols KCL</th>\n",
       "      <td>1039.625347</td>\n",
       "    </tr>\n",
       "  </tbody>\n",
       "</table>\n",
       "</div>"
      ],
      "text/plain": [
       "                Coefficient\n",
       "Temperature °C   891.355670\n",
       "Mols KCL        1039.625347"
      ]
     },
     "execution_count": 15,
     "metadata": {},
     "output_type": "execute_result"
    }
   ],
   "source": [
    "temp_coef = model.coef_[0]\n",
    "mols_coef = model.coef_[1]\n",
    "\n",
    "print(\"Temperature Coefficient = \", temp_coef)\n",
    "print(\"Mols Coefficient        = \", mols_coef)\n",
    "coeff_df = pd.DataFrame(model.coef_, X.columns, columns=['Coefficient'])\n",
    "coeff_df"
   ]
  },
  {
   "cell_type": "code",
   "execution_count": 16,
   "metadata": {},
   "outputs": [
    {
     "name": "stdout",
     "output_type": "stream",
     "text": [
      "Intercept =  -425874.351325789\n"
     ]
    }
   ],
   "source": [
    "intercept = model.intercept_\n",
    "print(\"Intercept = \", intercept)"
   ]
  },
  {
   "cell_type": "markdown",
   "metadata": {},
   "source": [
    "#### Equation"
   ]
  },
  {
   "cell_type": "code",
   "execution_count": 17,
   "metadata": {},
   "outputs": [
    {
     "data": {
      "text/markdown": [
       "$y = -425874$ + 891$ + 1039y$"
      ],
      "text/plain": [
       "<IPython.core.display.Markdown object>"
      ]
     },
     "execution_count": 17,
     "metadata": {},
     "output_type": "execute_result"
    }
   ],
   "source": [
    "md(\"$y = %i$ + %i$ + %iy$\"%(intercept, temp_coef, mols_coef))"
   ]
  },
  {
   "cell_type": "markdown",
   "metadata": {},
   "source": [
    "## Part 4. Use Cross Validation"
   ]
  },
  {
   "cell_type": "code",
   "execution_count": 18,
   "metadata": {},
   "outputs": [
    {
     "name": "stdout",
     "output_type": "stream",
     "text": [
      "0.86 accuracy with a standard deviation of 0.01\n"
     ]
    }
   ],
   "source": [
    "scores = cross_val_score(model, X_train, y_train,cv=10)\n",
    "print(\"%0.2f accuracy with a standard deviation of %0.2f\" % (scores.mean(), scores.std()))"
   ]
  },
  {
   "cell_type": "markdown",
   "metadata": {},
   "source": [
    "## Part 5. Using Polynomial Regression"
   ]
  },
  {
   "cell_type": "code",
   "execution_count": 19,
   "metadata": {},
   "outputs": [
    {
     "data": {
      "text/plain": [
       "LinearRegression(copy_X=True, fit_intercept=True, n_jobs=None,\n",
       "         normalize=False)"
      ]
     },
     "execution_count": 19,
     "metadata": {},
     "output_type": "execute_result"
    }
   ],
   "source": [
    "poly = PolynomialFeatures(degree=2)\n",
    "X_test = poly.fit_transform(X_test)\n",
    "X_train = poly.fit_transform(X_train)\n",
    "model = LinearRegression()\n",
    "model.fit(X_train, y_train)"
   ]
  },
  {
   "cell_type": "code",
   "execution_count": 20,
   "metadata": {},
   "outputs": [
    {
     "data": {
      "text/plain": [
       "1.0"
      ]
     },
     "execution_count": 20,
     "metadata": {},
     "output_type": "execute_result"
    }
   ],
   "source": [
    "model.score(X_train, y_train)"
   ]
  },
  {
   "cell_type": "code",
   "execution_count": null,
   "metadata": {},
   "outputs": [],
   "source": []
  },
  {
   "cell_type": "code",
   "execution_count": null,
   "metadata": {},
   "outputs": [],
   "source": []
  }
 ],
 "metadata": {
  "kernelspec": {
   "display_name": "Python 3",
   "language": "python",
   "name": "python3"
  },
  "language_info": {
   "codemirror_mode": {
    "name": "ipython",
    "version": 3
   },
   "file_extension": ".py",
   "mimetype": "text/x-python",
   "name": "python",
   "nbconvert_exporter": "python",
   "pygments_lexer": "ipython3",
   "version": "3.7.9"
  }
 },
 "nbformat": 4,
 "nbformat_minor": 4
}
